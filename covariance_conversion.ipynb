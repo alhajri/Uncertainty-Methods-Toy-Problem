{
 "cells": [
  {
   "cell_type": "markdown",
   "metadata": {
    "colab_type": "text",
    "id": "EpZaSh6SpcK4"
   },
   "source": [
    "# Covariance Conversion\n",
    "\n",
    "## From resonnance parameters to WMP covariance\n",
    "\n",
    "\n",
    "### A 1-level-1channel toy Problem"
   ]
  },
  {
   "cell_type": "markdown",
   "metadata": {
    "colab_type": "text",
    "id": "Z7FH7w0iCd4R"
   },
   "source": [
    "This program implements in Python 3 :\n",
    "      - a toy-problem for conversion using the contour integral method\n",
    "      - conversions for poles an residues\n",
    "      - plots things\n",
    "\n",
    "NOTE : author is Pablo DUCRU, for any inquires please e-mail at  *** p_ducru@mit.edu ***"
   ]
  },
  {
   "cell_type": "code",
   "execution_count": 1,
   "metadata": {
    "colab": {},
    "colab_type": "code",
    "id": "tl0Uh7ZDCcC6"
   },
   "outputs": [],
   "source": [
    "## Import Python package for linear algebra\n",
    "import numpy as np"
   ]
  },
  {
   "cell_type": "code",
   "execution_count": 2,
   "metadata": {
    "colab": {},
    "colab_type": "code",
    "id": "1k-5eSfJucXN"
   },
   "outputs": [],
   "source": [
    "## Importing Python packages for plotting\n",
    "#from mpl_toolkits.mplot3d import Axes3D\n",
    "import matplotlib.pyplot as plt\n",
    "#from matplotlib import cm\n",
    "#from matplotlib.ticker import LinearLocator, FormatStrFormatter\n"
   ]
  },
  {
   "cell_type": "markdown",
   "metadata": {
    "colab_type": "text",
    "id": "VxkWeo5mpov4"
   },
   "source": [
    "## Nuclear Cross Section Model (SLBW for this benchmark)"
   ]
  },
  {
   "cell_type": "markdown",
   "metadata": {},
   "source": [
    "#### SLBW Equations"
   ]
  },
  {
   "cell_type": "code",
   "execution_count": 83,
   "metadata": {},
   "outputs": [],
   "source": [
    "################################################################################\n",
    "########### U-238 resonance parameters for first resonance ####################\n",
    "################################################################################\n",
    "a_U238 = 9.480000e-4 # (10-12 cm)\n",
    "ρ0_U238 = 0.002196807122623*0.5\n",
    "ρ0 = ρ0_U238\n",
    "## VLAD's VALUES\n",
    "μ_E0_U238 = 6.674280\n",
    "μ_Γn_U238 = 1.492300e-3\n",
    "μ_Γγ_U238 = 2.271100e-2\n",
    "\n",
    "\n",
    "μ_Γ_U238 = np.array([μ_E0_U238, μ_Γn_U238, μ_Γγ_U238])\n",
    "\n",
    "\n",
    "# CHANG COV WHEN VLAD GIVES\n",
    "cov_Γ_U238 = 100*np.diag([ 0.065126369275825552667027773401338945901507564256784,\n",
    "                        0.0000060974748049746141519539917002332147619120952060896,\n",
    "                        0.00000043730461508887773583171268036686758829891074351669])**2\n",
    "\n",
    "\n",
    "################################################################################\n",
    "############# Macroscopic Cross Sections as function of E ######################\n",
    "################################################################################\n",
    "\n",
    "def Σγ(E, Γ): ## The most simple SLBW caputre resonance\n",
    "    return (np.pi*Γ[1]*Γ[2]/(ρ0**2*E**0.5*Γ[0]**0.5))/((E-Γ[0])**2+((Γ[1]*(E/Γ[0])**(1/2)+ Γ[2])/2)**2)"
   ]
  },
  {
   "cell_type": "markdown",
   "metadata": {},
   "source": [
    "#### Plotting the cross section"
   ]
  },
  {
   "cell_type": "code",
   "execution_count": 4,
   "metadata": {
    "colab": {},
    "colab_type": "code",
    "id": "c4D-TWttqOQb"
   },
   "outputs": [],
   "source": [
    "# Energy grid structure\n",
    "E_max = 10**4 # Minimum energy of the energy groups\n",
    "E_min = 10**-2 # Maximum energy of the energy groups & the cutoff energy of the fision spectrum\n",
    "N_g = 1000 # Number of energy groups\n",
    "E_g = np.logspace(np.log10(E_min),np.log10(E_max),N_g) # Energy groups (here log-spaced) for flux ψ\n",
    "\n",
    "# number densities (corrected to include the spin statistical factors)\n",
    "N_densities = np.array([1,(0.124954)*1.0])\n",
    "\n",
    "# scattering cross section\n",
    "σ_nn = 0.166810"
   ]
  },
  {
   "cell_type": "code",
   "execution_count": 5,
   "metadata": {},
   "outputs": [
    {
     "data": {
      "text/plain": [
       "(1000,)"
      ]
     },
     "execution_count": 5,
     "metadata": {},
     "output_type": "execute_result"
    }
   ],
   "source": [
    "E_g.shape"
   ]
  },
  {
   "cell_type": "code",
   "execution_count": 6,
   "metadata": {},
   "outputs": [],
   "source": [
    "E_grid = np.logspace(-2,4,N_g)"
   ]
  },
  {
   "cell_type": "code",
   "execution_count": 7,
   "metadata": {},
   "outputs": [
    {
     "data": {
      "text/plain": [
       "(1000,)"
      ]
     },
     "execution_count": 7,
     "metadata": {},
     "output_type": "execute_result"
    }
   ],
   "source": [
    "E_grid.shape"
   ]
  },
  {
   "cell_type": "code",
   "execution_count": 8,
   "metadata": {},
   "outputs": [
    {
     "data": {
      "image/png": "[encoded data removed]",
      "text/plain": [
       "<Figure size 432x288 with 1 Axes>"
      ]
     },
     "metadata": {
      "needs_background": "light"
     },
     "output_type": "display_data"
    }
   ],
   "source": [
    "## Plot the mean cross section values. \n",
    "titre_Σ = 'Capture cross sections Σγ(E), first resonance U-238'\n",
    "titre_Σ_pdf = \"%s.%s\"%(titre_Σ, 'pdf')\n",
    "\n",
    "#plt.close('all')\n",
    "# Plotting the cross section\n",
    "#plt.loglog(E_g , np.array([sum(list(Σ_vector(E_g[g], μ_Γ_all))) for g in range(E_g.size)]) )\n",
    "plt.loglog(E_g , np.array([Σγ(E_g[g], μ_Γ_U238) for g in range(E_g.size)]) , '-r', label='Σγ(E)') \n",
    "plt.ylabel('Cross section Σγ(E)')\n",
    "plt.xlabel('Energy E (eV)')\n",
    "plt.title(titre_Σ)\n",
    "plt.legend()\n",
    "\n",
    "plt.rcParams['axes.facecolor'] = '0.98'"
   ]
  },
  {
   "cell_type": "markdown",
   "metadata": {},
   "source": [
    "#### SLBW derivative equations"
   ]
  },
  {
   "cell_type": "code",
   "execution_count": 9,
   "metadata": {},
   "outputs": [],
   "source": [
    "def dΣγ_dΓ(E, Γ): ## The most simple SLBW caputre resonance\n",
    "    dΣγ_dEλ = Σγ(E, Γ)*( (-1)/(2*Γ[0]) + Σγ(E, Γ)*(ρ0**2*E**0.5*Γ[0]**(0.5))/(np.pi*Γ[1]*Γ[2])*(2*(E-Γ[0]) + ( Γ[2] + Γ[1]*E**0.5*Γ[0]**(-0.5))*(Γ[2]*E**0.5)/(4*Γ[0]**1.5)) )\n",
    "    dΣγ_dΓn = Σγ(E, Γ)*( 1/(Γ[1]) - Σγ(E, Γ)*(ρ0**2*E**0.5*Γ[0]**(0.5))/(np.pi*Γ[1]*Γ[2])*(0.5*E**0.5*Γ[0]**(-0.5)*( Γ[2] + Γ[1]*E**0.5*Γ[0]**(-0.5))) )\n",
    "    dΣγ_dΓγ = Σγ(E, Γ)*( 1/(Γ[2]) - Σγ(E, Γ)*(ρ0**2*E**0.5*Γ[0]**(0.5))/(np.pi*Γ[1]*Γ[2])*(0.5*( Γ[2] + Γ[1]*E**0.5*Γ[0]**(-0.5))) )\n",
    "    return np.array([dΣγ_dEλ , dΣγ_dΓn , dΣγ_dΓγ])"
   ]
  },
  {
   "cell_type": "code",
   "execution_count": 10,
   "metadata": {},
   "outputs": [],
   "source": [
    "ε = 0.000001 \n",
    "Γ_U238_ε_E0 = np.array([μ_E0_U238 + ε, μ_Γn_U238, μ_Γγ_U238])\n",
    "Γ_U238_ε_Γn = np.array([μ_E0_U238 , μ_Γn_U238 + ε, μ_Γγ_U238])\n",
    "Γ_U238_ε_Γγ = np.array([μ_E0_U238, μ_Γn_U238, μ_Γγ_U238 + ε])\n"
   ]
  },
  {
   "cell_type": "code",
   "execution_count": 11,
   "metadata": {
    "scrolled": true
   },
   "outputs": [
    {
     "data": {
      "image/png": "[encoded data removed]",
      "text/plain": [
       "<Figure size 432x288 with 1 Axes>"
      ]
     },
     "metadata": {
      "needs_background": "light"
     },
     "output_type": "display_data"
    }
   ],
   "source": [
    "# Energy grid structure\n",
    "E_max = 10**3 # Minimum energy of the energy groups\n",
    "E_min = 10**-1 # Maximum energy of the energy groups & the cutoff energy of the fision spectrum\n",
    "N_g = 1000 # Number of energy groups\n",
    "E_g = np.logspace(np.log10(E_min),np.log10(E_max),N_g) # Energy groups (here log-spaced) for flux ψ\n",
    "\n",
    "## Plot the mean cross section values. \n",
    "plot_title = 'Partial derivative of Σγ(E) with respect to Eλ'\n",
    "plot_title_pdf = \"%s.%s\"%(plot_title, 'pdf')\n",
    "\n",
    "#plt.close('all')\n",
    "# Plotting the cross section\n",
    "#plt.loglog(E_g , np.array([sum(list(Σ_vector(E_g[g], μ_Γ_all))) for g in range(E_g.size)]) )\n",
    "plt.loglog(E_g , np.abs(np.array([(Σγ(E_g[g], Γ_U238_ε_E0) - Σγ(E_g[g], μ_Γ_U238) )/ε for g in range(E_g.size)])) , '-r', label='(Σγ(E,Eλ + ε) - Σγ(E,Eλ) )/ε ') \n",
    "plt.loglog(E_g , np.abs(np.array([ dΣγ_dΓ(E_g[g], μ_Γ_U238)[0] for g in range(E_g.size)])) , '-.b', label='δΣγ/δEλ(E)') \n",
    "plt.ylabel('δΣγ/δEλ(E)')\n",
    "plt.xlabel('Energy E (eV)')\n",
    "plt.title(plot_title)\n",
    "plt.legend()\n",
    "\n",
    "plt.rcParams['axes.facecolor'] = '0.98'"
   ]
  },
  {
   "cell_type": "code",
   "execution_count": 12,
   "metadata": {},
   "outputs": [
    {
     "data": {
      "image/png": "[encoded data removed]",
      "text/plain": [
       "<Figure size 432x288 with 1 Axes>"
      ]
     },
     "metadata": {
      "needs_background": "light"
     },
     "output_type": "display_data"
    }
   ],
   "source": [
    "# Energy grid structure\n",
    "E_max = 10**3 # Minimum energy of the energy groups\n",
    "E_min = 10**-1 # Maximum energy of the energy groups & the cutoff energy of the fision spectrum\n",
    "N_g = 1000 # Number of energy groups\n",
    "E_g = np.logspace(np.log10(E_min),np.log10(E_max),N_g) # Energy groups (here log-spaced) for flux ψ\n",
    "\n",
    "## Plot the mean cross section values. \n",
    "plot_title = 'Partial derivative of Σγ(E) with respect to Γn'\n",
    "plot_title_pdf = \"%s.%s\"%(plot_title, 'pdf')\n",
    "\n",
    "#plt.close('all')\n",
    "# Plotting the cross section\n",
    "#plt.loglog(E_g , np.array([sum(list(Σ_vector(E_g[g], μ_Γ_all))) for g in range(E_g.size)]) )\n",
    "plt.loglog(E_g , np.abs(np.array([(Σγ(E_g[g], Γ_U238_ε_Γn) - Σγ(E_g[g], μ_Γ_U238) )/ε for g in range(E_g.size)])) , '-r', label='(Σγ(E,Γn + ε) - Σγ(E,Γn) )/ε ') \n",
    "plt.loglog(E_g , np.abs(np.array([ dΣγ_dΓ(E_g[g], μ_Γ_U238)[1] for g in range(E_g.size)])) , '-.b', label='δΣγ/δΓn(E)') \n",
    "plt.ylabel('δΣγ/δΓn(E)')\n",
    "plt.xlabel('Energy E (eV)')\n",
    "plt.title(plot_title)\n",
    "plt.legend()\n",
    "\n",
    "plt.rcParams['axes.facecolor'] = '0.98'"
   ]
  },
  {
   "cell_type": "code",
   "execution_count": 13,
   "metadata": {},
   "outputs": [
    {
     "data": {
      "image/png": "[encoded data removed]",
      "text/plain": [
       "<Figure size 432x288 with 1 Axes>"
      ]
     },
     "metadata": {
      "needs_background": "light"
     },
     "output_type": "display_data"
    }
   ],
   "source": [
    "# Energy grid structure\n",
    "E_max = 10**3 # Minimum energy of the energy groups\n",
    "E_min = 10**-1 # Maximum energy of the energy groups & the cutoff energy of the fision spectrum\n",
    "N_g = 1000 # Number of energy groups\n",
    "E_g = np.logspace(np.log10(E_min),np.log10(E_max),N_g) # Energy groups (here log-spaced) for flux ψ\n",
    "\n",
    "## Plot the mean cross section values. \n",
    "plot_title = 'Partial derivative of Σγ(E) with respect to Γγ'\n",
    "plot_title_pdf = \"%s.%s\"%(plot_title, 'pdf')\n",
    "\n",
    "#plt.close('all')\n",
    "# Plotting the cross section\n",
    "#plt.loglog(E_g , np.array([sum(list(Σ_vector(E_g[g], μ_Γ_all))) for g in range(E_g.size)]) )\n",
    "plt.loglog(E_g , np.abs(np.array([(Σγ(E_g[g], Γ_U238_ε_Γγ) - Σγ(E_g[g], μ_Γ_U238) )/ε for g in range(E_g.size)])) , '-r', label='(Σγ(E,Γγ + ε) - Σγ(E,Γγ) )/ε ') \n",
    "plt.loglog(E_g , np.abs(np.array([ dΣγ_dΓ(E_g[g], μ_Γ_U238)[2] for g in range(E_g.size)])) , '-.b', label='δΣγ/δΓγ(E)') \n",
    "plt.ylabel('δΣγ/δΓγ(E)')\n",
    "plt.xlabel('Energy E (eV)')\n",
    "plt.title(plot_title)\n",
    "plt.legend()\n",
    "\n",
    "plt.rcParams['axes.facecolor'] = '0.98'"
   ]
  },
  {
   "cell_type": "markdown",
   "metadata": {},
   "source": [
    "#### Sampling from resonance parameters"
   ]
  },
  {
   "cell_type": "code",
   "execution_count": 14,
   "metadata": {},
   "outputs": [],
   "source": [
    "def sample_Γ_res_parameters(mean_Γ_all, cov_Γ_all): ## This implementation cannot take cross-resonance covariance yet\n",
    "    Γ_sample = np.copy(mean_Γ_all)\n",
    "    if mean_Γ_all.shape == (3,): ## This means only 1 resonance \n",
    "        Γ_sample = np.random.multivariate_normal(mean_Γ_all, cov_Γ_all) # LOG NORMAL mvln = np.exp(mvn) after sampling multivariate normal FOR NEGATIVE WIDTHS\n",
    "    else:\n",
    "        for λ in range(mean_Γ_all.shape[0]):\n",
    "            Γ_sample[λ] = np.random.multivariate_normal(mean_Γ_all[λ], cov_Γ_all[λ]) # LOG NORMAL mvln = np.exp(mvn) after sampling multivariate normal\n",
    "    return Γ_sample"
   ]
  },
  {
   "cell_type": "code",
   "execution_count": 15,
   "metadata": {
    "scrolled": true
   },
   "outputs": [
    {
     "name": "stderr",
     "output_type": "stream",
     "text": [
      "No handles with labels found to put in legend.\n"
     ]
    },
    {
     "data": {
      "image/png": "[encoded data removed]",
      "text/plain": [
       "<Figure size 432x288 with 1 Axes>"
      ]
     },
     "metadata": {
      "needs_background": "light"
     },
     "output_type": "display_data"
    }
   ],
   "source": [
    "## Plot the cross sections from nuclear data uncertainty\n",
    "titre_ΔΣ = 'Stochastic macroscopic cross sections Σγ(E), drawn from covariance ΔΓ'\n",
    "titre_ΔΣ_pdf = \"%s.%s\"%(titre_ΔΣ, 'pdf')\n",
    "\n",
    "#plt.close('all')\n",
    "# Plotting the sampled cross sections\n",
    "for i in range(10):\n",
    "    Γ_sample = sample_Γ_res_parameters(μ_Γ_U238, cov_Γ_U238)\n",
    "    plt.loglog(E_g , np.array([Σγ(E_g[g], Γ_sample) for g in range(E_g.size)])) #, '--r') \n",
    "plt.ylabel('Σγ(E) samples from ΔΓ')\n",
    "plt.xlabel('Energy E (eV)')\n",
    "plt.title(titre_ΔΣ )\n",
    "plt.legend()\n",
    "\n",
    "plt.rcParams['axes.facecolor'] = '0.98'"
   ]
  },
  {
   "cell_type": "code",
   "execution_count": 16,
   "metadata": {},
   "outputs": [
    {
     "data": {
      "text/plain": [
       "1.589282865622978"
      ]
     },
     "execution_count": 16,
     "metadata": {},
     "output_type": "execute_result"
    }
   ],
   "source": [
    "E_0 = E_g[300]\n",
    "E_0"
   ]
  },
  {
   "cell_type": "code",
   "execution_count": 99,
   "metadata": {},
   "outputs": [
    {
     "data": {
      "text/plain": [
       "(1000,)"
      ]
     },
     "execution_count": 99,
     "metadata": {},
     "output_type": "execute_result"
    }
   ],
   "source": [
    "E_g.shape"
   ]
  },
  {
   "cell_type": "code",
   "execution_count": 103,
   "metadata": {},
   "outputs": [
    {
     "data": {
      "text/plain": [
       "array([-2.08113859e-01,  2.61081204e-06,  8.82387311e-10])"
      ]
     },
     "execution_count": 103,
     "metadata": {},
     "output_type": "execute_result"
    }
   ],
   "source": [
    "np.dot(cov_Γ_U238,dΣγ_dΓ(E_0, μ_Γ_U238))"
   ]
  },
  {
   "cell_type": "code",
   "execution_count": 105,
   "metadata": {},
   "outputs": [
    {
     "data": {
      "text/plain": [
       "0.10394811607617754"
      ]
     },
     "execution_count": 105,
     "metadata": {},
     "output_type": "execute_result"
    }
   ],
   "source": [
    "\n",
    "Σγ_sigma_at_E0"
   ]
  },
  {
   "cell_type": "code",
   "execution_count": 115,
   "metadata": {},
   "outputs": [
    {
     "data": {
      "text/plain": [
       "array([1.47559725e-013, 1.99754072e-010, 1.08664919e-007, 2.37546699e-005,\n",
       "       2.08676984e-003, 7.36658191e-002, 1.04501713e+000, 5.95726215e+000,\n",
       "       1.36469604e+001, 1.25629337e+001, 4.64742211e+000, 6.90874382e-001,\n",
       "       4.12716636e-002, 9.90765276e-004, 9.55774624e-006, 3.70515287e-008,\n",
       "       5.77195164e-011, 3.61330941e-014, 9.08978345e-018, 9.18899127e-022,\n",
       "       3.73291462e-026, 6.09388412e-031, 3.99766357e-036, 1.05386313e-041,\n",
       "       1.11642125e-047, 4.75267258e-054, 8.13043185e-061, 5.58927204e-068,\n",
       "       1.54405512e-075, 1.71410044e-083, 7.64672813e-092, 1.37082163e-100,\n",
       "       9.87534250e-110, 2.85883638e-119, 3.32577106e-129, 1.55475269e-139,\n",
       "       2.92076220e-150, 2.20494114e-161, 6.68903881e-173, 8.15448144e-185,\n",
       "       3.99479868e-197, 7.86428718e-210, 6.22142323e-223, 1.97781673e-236,\n",
       "       2.52666847e-250, 1.29710876e-264, 2.67590347e-279, 2.21835173e-294,\n",
       "       7.39020165e-310, 0.00000000e+000, 0.00000000e+000])"
      ]
     },
     "execution_count": 115,
     "metadata": {},
     "output_type": "execute_result"
    }
   ],
   "source": [
    "Σγ_local_propagation"
   ]
  },
  {
   "cell_type": "code",
   "execution_count": 117,
   "metadata": {},
   "outputs": [
    {
     "data": {
      "image/png": "[encoded data removed]",
      "text/plain": [
       "<Figure size 432x288 with 1 Axes>"
      ]
     },
     "metadata": {
      "needs_background": "light"
     },
     "output_type": "display_data"
    }
   ],
   "source": [
    "num_bins = 100\n",
    "\n",
    "Σγ_hist = np.array([Σγ(E_0, sample_Γ_res_parameters(μ_Γ_U238, cov_Γ_U238))  for i in range(1000)])\n",
    "\n",
    "Σγ_mean = Σγ(E_0, μ_Γ_U238)\n",
    "\n",
    "Σγ_sigma_at_E0 = np.dot(dΣγ_dΓ(E_0, μ_Γ_U238), np.dot(cov_Γ_U238,dΣγ_dΓ(E_0, μ_Γ_U238)))\n",
    "\n",
    "Σγ_local_propagation = ((1 / (np.sqrt(2 * np.pi) * Σγ_sigma_at_E0)) *\n",
    "     np.exp(-0.5 * (1 / Σγ_sigma_at_E0 * (bins - Σγ_mean))**2))**2\n",
    "\n",
    "ax.plot(bins, Σγ_local_propagation, '--r')\n",
    "\n",
    "fig, ax = plt.subplots()\n",
    "\n",
    "n, bins, patches = ax.hist(Σγ_hist, num_bins, density=1)\n"
   ]
  },
  {
   "cell_type": "code",
   "execution_count": 87,
   "metadata": {},
   "outputs": [],
   "source": [
    "import cmath"
   ]
  },
  {
   "cell_type": "code",
   "execution_count": 90,
   "metadata": {},
   "outputs": [
    {
     "data": {
      "text/plain": [
       "(1-1.2246467991473532e-16j)"
      ]
     },
     "execution_count": 90,
     "metadata": {},
     "output_type": "execute_result"
    }
   ],
   "source": [
    "cmath.sqrt(cmath.exp(2*cmath.pi*1j))"
   ]
  },
  {
   "cell_type": "code",
   "execution_count": 91,
   "metadata": {},
   "outputs": [
    {
     "data": {
      "text/plain": [
       "(1.0, -2.4492935982947064e-16)"
      ]
     },
     "execution_count": 91,
     "metadata": {},
     "output_type": "execute_result"
    }
   ],
   "source": [
    "cmath.polar(cmath.exp(2*cmath.pi*1j))"
   ]
  },
  {
   "cell_type": "code",
   "execution_count": 92,
   "metadata": {},
   "outputs": [
    {
     "data": {
      "text/plain": [
       "(1.0, -4.898587196589413e-16)"
      ]
     },
     "execution_count": 92,
     "metadata": {},
     "output_type": "execute_result"
    }
   ],
   "source": [
    "cmath.polar(cmath.exp(4*cmath.pi*1j))"
   ]
  },
  {
   "cell_type": "code",
   "execution_count": 89,
   "metadata": {},
   "outputs": [
    {
     "data": {
      "text/plain": [
       "(1-2.4492935982947064e-16j)"
      ]
     },
     "execution_count": 89,
     "metadata": {},
     "output_type": "execute_result"
    }
   ],
   "source": [
    "cmath.sqrt(cmath.exp(4*cmath.pi*1j))"
   ]
  },
  {
   "cell_type": "code",
   "execution_count": null,
   "metadata": {},
   "outputs": [],
   "source": [
    "\n",
    "# example data\n",
    "mu = 100  # mean of distribution\n",
    "sigma = 15  # standard deviation of distribution\n",
    "x = mu + sigma * np.random.randn(437)\n",
    "\n",
    "num_bins = 50\n",
    "\n",
    "fig, ax = plt.subplots()\n",
    "\n",
    "# the histogram of the data\n",
    "n, bins, patches = ax.hist(x, num_bins, density=1)\n",
    "\n",
    "# add a 'best fit' line\n",
    "y = ((1 / (np.sqrt(2 * np.pi) * sigma)) *\n",
    "     np.exp(-0.5 * (1 / sigma * (bins - mu))**2))\n",
    "ax.plot(bins, y, '--')\n",
    "ax.set_xlabel('Smarts')\n",
    "ax.set_ylabel('Probability density')\n",
    "ax.set_title(r'Histogram of IQ: $\\mu=100$, $\\sigma=15$')\n",
    "\n",
    "# Tweak spacing to prevent clipping of ylabel\n",
    "fig.tight_layout()\n",
    "plt.show()"
   ]
  },
  {
   "cell_type": "code",
   "execution_count": 72,
   "metadata": {},
   "outputs": [
    {
     "name": "stdout",
     "output_type": "stream",
     "text": [
      "0\n",
      "0.002849747495791826\n",
      "1\n",
      "0.0033762611682676283\n",
      "2\n",
      "0.0031682236238781097\n",
      "3\n",
      "0.003064298658177665\n",
      "4\n",
      "0.0032337888962451914\n",
      "5\n",
      "0.0029749148020271686\n",
      "6\n",
      "0.0031787516187500526\n",
      "7\n",
      "0.0027777725864576047\n",
      "8\n",
      "0.003460733215050051\n"
     ]
    },
    {
     "name": "stderr",
     "output_type": "stream",
     "text": [
      "No handles with labels found to put in legend.\n"
     ]
    },
    {
     "name": "stdout",
     "output_type": "stream",
     "text": [
      "9\n",
      "0.0025362149866149744\n"
     ]
    },
    {
     "data": {
      "image/png": "[encoded data removed]",
      "text/plain": [
       "<Figure size 432x288 with 1 Axes>"
      ]
     },
     "metadata": {
      "needs_background": "light"
     },
     "output_type": "display_data"
    }
   ],
   "source": [
    "## Plot the cross sections from nuclear data uncertainty\n",
    "titre_ΔΣ_E0 = 'Capture cross sections Σγ_hist(E), drawn from covariance ΔΓ'\n",
    "titre_ΔΣ_E0_pdf = \"%s.%s\"%(titre_ΔΣ_E0, 'pdf')\n",
    "\n",
    "Σγ_hist = []\n",
    "# Plotting the sampled cross sections\n",
    "for i in range(10):\n",
    "    print(i)\n",
    "    Γ_sample =  sample_Γ_res_parameters(μ_Γ_U238, cov_Γ_U238)\n",
    "    Σγ_hist.append(Σγ(E_g[666], Γ_sample))\n",
    "    print(Σγ(E_g[666], Γ_sample))\n",
    "    plt.hist( Σγ_hist, 100, density= 1 )# , label='Σγ: hist.')#, '--r', label='Σ_γ: hist.')     \n",
    "plt.ylabel('Cross section Density: Σγ(E_0)')\n",
    "plt.xlabel('Cross section Value: Σγ(E_0)')\n",
    "plt.title(titre_ΔΣ )\n",
    "plt.legend()\n",
    "    \n",
    "plt.rcParams['axes.facecolor'] = '0.98'"
   ]
  },
  {
   "cell_type": "markdown",
   "metadata": {
    "colab_type": "text",
    "id": "3Hzqb4Gyphl8"
   },
   "source": [
    "## Vector Fitting Algorithm\n",
    "\n",
    "\n",
    "\n",
    "##### The simplest barycentric SK iterations: no relaxation, no QR, no orthogonal basis, no real numbers"
   ]
  },
  {
   "cell_type": "markdown",
   "metadata": {
    "colab_type": "text",
    "id": "lphEFSoBo13y"
   },
   "source": [
    "The space of functions we are learning in is that of proper rational fraction of degree zero (poles + offset)"
   ]
  },
  {
   "cell_type": "code",
   "execution_count": 19,
   "metadata": {
    "colab": {},
    "colab_type": "code",
    "id": "FICB4ZwD8j_N"
   },
   "outputs": [],
   "source": [
    "## Generic rational fractions with an offset and an entire part.\n",
    "# > The entire part is specified by the set of coefficients.\n",
    "# > If no coefficients are provided (the empty set), the rational function is build with a simple offset, the default value of which is zero.\n",
    "def rational_function(z, poles, residues, offset=0, poly_coeff=()):\n",
    "    if poly_coeff == ():\n",
    "        poly_order = 0\n",
    "        ## print(\"The rational_function function was not given an entire polynomial part to build.\")\n",
    "    else:\n",
    "        poly_order = poly_coeff.shape[0]\n",
    "    return  np.sum(residues[n]/(z-poles[n]) for n in range(poles.size)) + offset + np.sum(poly_coeff[n]*z**(n+1) for n in range(poly_order))"
   ]
  },
  {
   "cell_type": "markdown",
   "metadata": {
    "colab_type": "text",
    "id": "gtItn5cJCaHu"
   },
   "source": [
    "#### VF algorithm"
   ]
  },
  {
   "cell_type": "markdown",
   "metadata": {
    "colab_type": "text",
    "id": "EcabUnz_DSsj"
   },
   "source": [
    ": Building functions that make up the building blocks of the algorithm"
   ]
  },
  {
   "cell_type": "code",
   "execution_count": 20,
   "metadata": {
    "colab": {},
    "colab_type": "code",
    "id": "Y8m3P_2-505n"
   },
   "outputs": [],
   "source": [
    "## Create the Y_vector for the LS problem :: Here, we weight it with the sqrt of the rho_k for the system\n",
    "def vectorize_Y_for_LS(z_train, Y_train, dim_residues):\n",
    "    number_train_points = Y_train.shape[0]\n",
    "    sqrt_weights_rho = build_square_weights_rho_k(z_train, Y_train)\n",
    "    Y_LS_vector = np.zeros([dim_residues*number_train_points],  dtype=np.complex)\n",
    "    for d in range(dim_residues):\n",
    "        for k in range(number_train_points):\n",
    "            Y_LS_vector[d*number_train_points + k] =  sqrt_weights_rho[k]*Y_train[k,d]\n",
    "    return Y_LS_vector"
   ]
  },
  {
   "cell_type": "code",
   "execution_count": 21,
   "metadata": {
    "colab": {},
    "colab_type": "code",
    "id": "f3VqFWvaYHJP"
   },
   "outputs": [],
   "source": [
    "## define the Cauchy matrix\n",
    "def Cauchy_matrix(z,p):\n",
    "    C = np.zeros([z.size , p.size],  dtype=np.complex)\n",
    "    for k in range(z.size):\n",
    "        for j in range(p.size):\n",
    "            C[k,j] = 1/(z[k] - p[j])\n",
    "    return C"
   ]
  },
  {
   "cell_type": "code",
   "execution_count": 22,
   "metadata": {
    "colab": {},
    "colab_type": "code",
    "id": "u0oa-yjTy3w4"
   },
   "outputs": [],
   "source": [
    "## define the Vandermonde matrix without offset\n",
    "def Vandermonde_matrix(z,poly_order):\n",
    "    V = np.zeros([z.size , poly_order],  dtype=np.complex)\n",
    "    for k in range(z.size):\n",
    "        for n in range(poly_order):\n",
    "            V[k,n] = z[k]**(n+1)\n",
    "    return V"
   ]
  },
  {
   "cell_type": "code",
   "execution_count": 23,
   "metadata": {
    "colab": {},
    "colab_type": "code",
    "id": "IJKoKzBx1qEy"
   },
   "outputs": [],
   "source": [
    "## build the square root of the rho_k weights for the LS system :: linear heteroscedastic case\n",
    "def build_square_weights_rho_k(z_train, Y_train):\n",
    "    number_train_points = z_train.size\n",
    "    sqrt_weights_rho = np.zeros([number_train_points], dtype=np.complex)\n",
    "    for k in range(number_train_points):\n",
    "        sqrt_weights_rho[k] =  1.0/(np.sqrt(number_train_points*(np.linalg.norm(Y_train[k]))))   ## For heteroskedastic (np.sqrt(np.linalg.norm(Y_train[k])))))  ## * (np.linalg.norm(Y_train[k])) ))) ## for linear heteroscedastic case, add: *np.linalg.norm(Y_train[k]))\n",
    "    return sqrt_weights_rho"
   ]
  },
  {
   "cell_type": "code",
   "execution_count": 24,
   "metadata": {
    "colab": {},
    "colab_type": "code",
    "id": "2y8vBG1iCoaH"
   },
   "outputs": [],
   "source": [
    "## build the matrix of the barycentric LS system:\n",
    "def build_barycentric_LS_matrix(z_train, Y_train, learn_poles, poly_order=0):\n",
    "  dim_residues = Y_train[0].size\n",
    "  number_train_points = z_train.size\n",
    "  number_poles_learn = learn_poles.size\n",
    "  sqrt_weights_rho = build_square_weights_rho_k(z_train, Y_train) \n",
    "  C = Cauchy_matrix(z_train, learn_poles)\n",
    "  V = Vandermonde_matrix(z_train, poly_order)\n",
    "  LS_matrix = np.zeros([dim_residues*number_train_points, dim_residues*(number_poles_learn+1+poly_order) + number_poles_learn],  dtype=np.complex)\n",
    "  for d in range(dim_residues):\n",
    "      for k in range(number_train_points):\n",
    "          for p in range(number_poles_learn):\n",
    "              LS_matrix[d*number_train_points + k, d*number_poles_learn + p] = sqrt_weights_rho[k]*C[k,p]\n",
    "              for n in range(poly_order):\n",
    "                  LS_matrix[d*number_train_points + k, dim_residues*number_poles_learn + d*poly_order + n] = sqrt_weights_rho[k]*V[k,n] \n",
    "              LS_matrix[d*number_train_points + k, dim_residues*(number_poles_learn+poly_order) + d] = sqrt_weights_rho[k]*1 \n",
    "              LS_matrix[d*number_train_points + k, dim_residues*(number_poles_learn+poly_order+1) + p] = -sqrt_weights_rho[k]*Y_train[k,d]*C[k,p]\n",
    "  return LS_matrix"
   ]
  },
  {
   "cell_type": "code",
   "execution_count": 25,
   "metadata": {
    "colab": {},
    "colab_type": "code",
    "id": "gtijFXoua4Uh"
   },
   "outputs": [],
   "source": [
    "## build the matrix of the simple LS system:\n",
    "def build_LS_matrix(z_train, Y_train, learn_poles, poly_order=0):\n",
    "  dim_residues = Y_train[0].size\n",
    "  number_train_points = z_train.size\n",
    "  number_poles_learn = learn_poles.size\n",
    "  sqrt_weights_rho = build_square_weights_rho_k(z_train, Y_train) \n",
    "  C = Cauchy_matrix(z_train, learn_poles)\n",
    "  V = Vandermonde_matrix(z_train,poly_order)\n",
    "  LS_matrix = np.zeros([dim_residues*number_train_points, dim_residues*(number_poles_learn+1+poly_order) ],  dtype=np.complex)\n",
    "  for d in range(dim_residues):\n",
    "      for k in range(number_train_points):\n",
    "          for p in range(number_poles_learn):\n",
    "              LS_matrix[d*number_train_points + k, d*number_poles_learn + p] = sqrt_weights_rho[k]*C[k,p]  \n",
    "              for n in range(poly_order):\n",
    "                  LS_matrix[d*number_train_points + k, dim_residues*number_poles_learn + d*poly_order + n] = sqrt_weights_rho[k]*V[k,n] \n",
    "              LS_matrix[d*number_train_points + k, dim_residues*(number_poles_learn+poly_order) + d] = sqrt_weights_rho[k]*1 \n",
    "  return LS_matrix"
   ]
  },
  {
   "cell_type": "code",
   "execution_count": 26,
   "metadata": {
    "colab": {},
    "colab_type": "code",
    "id": "6zIVy-Y10sEQ"
   },
   "outputs": [],
   "source": [
    "## Function that vectorizes the residues and offset for the problem\n",
    "def build_LS_vector(residues, offset, poly_coeff=()):\n",
    "    if type(poly_coeff) == tuple:\n",
    "        poly_order = 0\n",
    "        #print(\"The build_LS_vector function was not given an entire polynomial part to build.\") \n",
    "    else:\n",
    "        poly_order = poly_coeff.shape[0]\n",
    "    number_poles = residues.shape[0]\n",
    "    dim_residues = residues.shape[1]\n",
    "    LS_vector    = np.zeros([dim_residues*(number_poles+poly_order+1)], dtype=np.complex)\n",
    "    for d in range(dim_residues):\n",
    "        for p in range(number_poles):\n",
    "            LS_vector[d*number_poles + p] = residues[p][d]\n",
    "        for n in range(poly_order):\n",
    "            LS_vector[dim_residues*number_poles + d*poly_order + n] = poly_coeff[n][d]\n",
    "    LS_vector[dim_residues*(number_poles+poly_order):LS_vector.size] = offset\n",
    "    return LS_vector"
   ]
  },
  {
   "cell_type": "code",
   "execution_count": 27,
   "metadata": {
    "colab": {},
    "colab_type": "code",
    "id": "UbJb2nad0xPx"
   },
   "outputs": [],
   "source": [
    "## Function that takes the vectorized solution and spits out the different elements\n",
    "def extract_from_LS_vector(LS_vector, number_poles, dim_residues , poly_order=0):\n",
    "    residues = np.zeros([number_poles, dim_residues], dtype=np.complex)\n",
    "    poly_coeff = np.zeros([poly_order, dim_residues], dtype=np.complex)\n",
    "    offset   = np.zeros([dim_residues], dtype = np.complex)\n",
    "    for d in range(dim_residues): \n",
    "        for p in range(number_poles):\n",
    "            residues[p][d] = LS_vector[d*number_poles + p]\n",
    "        for n in range(poly_order):\n",
    "            poly_coeff[n][d] = LS_vector[dim_residues*number_poles + d*poly_order + n]\n",
    "    offset = LS_vector[dim_residues*(number_poles+poly_order) : LS_vector.size]\n",
    "    if poly_order == 0:\n",
    "        return residues, offset\n",
    "    else:\n",
    "        return residues, poly_coeff, offset"
   ]
  },
  {
   "cell_type": "markdown",
   "metadata": {
    "colab_type": "text",
    "id": "LMB6A3WJFHF1"
   },
   "source": [
    "**The Vector Fitting algorithm: **\n",
    "\n",
    "The algorithm takes as input a training set {z_k, Y_k}, composed of training vectors {Y_k}, matched on a grid {z_k}.\n",
    "\n",
    "A standard number of VF iterations is 10, which usually suffices to converge the poles. \n",
    "\n",
    "Our implementation does not require the input of an initial guess. If you do not give one, the program will come up with a linearly spaced complex diagonal along the rectangle of the mesh of training points on the complex plane. "
   ]
  },
  {
   "cell_type": "code",
   "execution_count": 28,
   "metadata": {
    "colab": {},
    "colab_type": "code",
    "id": "v2dLKLHkFI8F"
   },
   "outputs": [],
   "source": [
    "def VF_algorithm(z_train, Y_train, number_VF_iteration, poly_order = 0 , *arguments ):\n",
    "    ## build the Y vector to solve for:\n",
    "    dim_residues = Y_train[0].size\n",
    "    number_train_points = z_train.size\n",
    "    Y_LS_vector = vectorize_Y_for_LS(z_train, Y_train, dim_residues)\n",
    "    ## Initialize the poles\n",
    "    if arguments == ():\n",
    "        raise AssertionError(\"The VF_algorithm function must be given either a number of poles, or an array of initial poles guess\") \n",
    "    for arg in arguments:\n",
    "        if type(arg) == np.ndarray: ## was given an initial guess as argument\n",
    "            print(\" The VF_algorithm was provided an initial guess for the poles\")\n",
    "            learn_poles = arg\n",
    "            number_poles = learn_poles.size\n",
    "        elif type(arg) == int: ## was given a number of poles without any initial guess\n",
    "            print(\"The VF_algorithm was provided a number of poles to learn and is generating an initial guess\")\n",
    "            number_poles = arg\n",
    "            if (np.amax(np.imag(z_train)) - np.amin(np.imag(z_train))) == 0: ## only real training data\n",
    "                print(\"The training points are only along the real axis, and the initial guesses are generated accordingly with a shift\")\n",
    "                learn_poles = np.linspace(np.amin(np.real(z_train))+1/(10*(np.amax(np.real(z_train)) - np.amin(np.real(z_train)))),np.amax(np.real(z_train)) + 1/(10*(np.amin(np.real(z_train))-np.amax(np.real(z_train)))) , number_poles) + 1j*np.linspace(np.amin(np.imag(z_train)),np.amax(np.imag(z_train)), number_poles)\n",
    "            elif (np.amax(np.real(z_train)) - np.amin(np.real(z_train)) ) == 0:\n",
    "                print(\"The training points are exactly along the imaginary axis, and the initial guesses are generated accordingly with a shift\")\n",
    "                learn_poles = np.linspace(np.amin(np.real(z_train)),np.amax(np.real(z_train)) , number_poles) + 1j*np.linspace(np.amin(np.imag(z_train)) + 1/(10*(np.amax(np.imag(z_train)) - np.amin(np.imag(z_train)))) ,np.amax(np.imag(z_train)) - 1/(10*(np.amax(np.imag(z_train)) - np.amin(np.imag(z_train)))), number_poles)\n",
    "            else:\n",
    "                learn_poles = np.linspace(np.amin(np.real(z_train))+1/(10*(np.amax(np.real(z_train))-np.amin(np.real(z_train)))),np.amax(np.real(z_train)) - 1/(10*(np.amax(np.real(z_train)) - np.amin(np.real(z_train)))) , number_poles) + 1j*np.linspace(np.amin(np.imag(z_train)) + 1/(10*(np.amax(np.imag(z_train)) - np.amin(np.imag(z_train)))), np.amax(np.imag(z_train)) -  1/(10*(np.amax(np.imag(z_train)) - np.amin(np.imag(z_train)))) , number_poles)\n",
    "    ## POLE CONVERGENCE: Run the VF iterations \n",
    "    for i in range(number_VF_iteration):\n",
    "        ## build the barycentric L2 system\n",
    "        barycentric_LS_matrix = build_barycentric_LS_matrix(z_train, Y_train, learn_poles, poly_order)\n",
    "        ## solve the barycentric L2 system\n",
    "        barycentric_LS_vector , barycentric_LS_residual , barycentric_LS_rank , barycentric_LS_singular_values = np.linalg.lstsq(barycentric_LS_matrix, Y_LS_vector, poly_order)\n",
    "        ## extract the barycentric residues\n",
    "        barycentric_residues = barycentric_LS_vector[dim_residues*(learn_poles.size + poly_order +1):barycentric_LS_vector.size]\n",
    "        ## Build the matrix the spectrum of which will be the recolated poles\n",
    "        P = np.diag(learn_poles) - np.tensordot(barycentric_residues,np.ones([barycentric_residues.size], dtype=np.complex),0)\n",
    "        ## Solve the spectral problem & relocate poles\n",
    "        learn_poles , eigenvectors = np.linalg.eig(P)\n",
    "        ## convergence criteria\n",
    "    ## RESIDUES EXTRACTION: Solve the LS system\n",
    "    ## build the quadratic system\n",
    "    LS_matrix = build_LS_matrix(z_train, Y_train, learn_poles, poly_order)\n",
    "    ## solve the quadratic L2 system\n",
    "    LS_vector, LS_residual, LS_rank , LS_singular_values = np.linalg.lstsq(LS_matrix, Y_LS_vector) ## np.linalg.solve(A.T.dot(A) + lamb * np.identity(n_col), A.T.dot(y)) For Tichonov\n",
    "    ## extract the residues, polynomial coefficients and offset\n",
    "    if poly_order == 0:\n",
    "        VF_poly_coeff= np.array([ 0.0 for n in range(poly_order)])\n",
    "        VF_residues , VF_offset = extract_from_LS_vector(LS_vector, learn_poles.size, dim_residues)\n",
    "        return learn_poles, VF_residues, VF_poly_coeff, VF_offset, LS_residual, barycentric_residues ## Artificially added an emplty set of VF_poly_coeff for homogeneity\n",
    "    else:\n",
    "        VF_residues , VF_poly_coeff, VF_offset = extract_from_LS_vector(LS_vector, learn_poles.size, dim_residues, poly_order)\n",
    "        return learn_poles, VF_residues, VF_poly_coeff, VF_offset, LS_residual, barycentric_residues"
   ]
  },
  {
   "cell_type": "markdown",
   "metadata": {
    "colab_type": "text",
    "id": "MMk2S0oURs9D"
   },
   "source": [
    "## VF SLBW for mean poles and residues\n"
   ]
  },
  {
   "cell_type": "markdown",
   "metadata": {},
   "source": [
    "Generate training points from the cross section"
   ]
  },
  {
   "cell_type": "code",
   "execution_count": 29,
   "metadata": {},
   "outputs": [],
   "source": [
    "E_max_train = 10**5 # Minimum energy of the energy groups\n",
    "E_min_train = 10**-3 # Maximum energy of the energy groups & the cutoff energy of the fision spectrum\n",
    "N_g_train = 10000 # Number of energy groups\n",
    "z_train = np.logspace(np.log10(E_min_train),np.log10(E_max_train),N_g_train) # Energy groups (here log-spaced) for flux ψ\n",
    "Y_train1 = np.array([z_train[g]**0.5*Σγ(z_train[g], μ_Γ_U238) for g in range(z_train.size)]) #if you want\n"
   ]
  },
  {
   "cell_type": "code",
   "execution_count": 30,
   "metadata": {},
   "outputs": [],
   "source": [
    "Y_train = np.transpose(np.array([Y_train1, Y_train1]))"
   ]
  },
  {
   "cell_type": "markdown",
   "metadata": {
    "colab_type": "text",
    "id": "bVXBCitxjWoM"
   },
   "source": [
    "VF algorithm results"
   ]
  },
  {
   "cell_type": "code",
   "execution_count": 31,
   "metadata": {
    "colab": {
     "base_uri": "https://localhost:8080/",
     "height": 102
    },
    "colab_type": "code",
    "id": "_uW_TcLqH3ji",
    "outputId": "7911d5b4-9538-402d-898b-ddf4b25cf1b7",
    "scrolled": false
   },
   "outputs": [
    {
     "name": "stdout",
     "output_type": "stream",
     "text": [
      "The VF_algorithm was provided a number of poles to learn and is generating an initial guess\n",
      "The training points are only along the real axis, and the initial guesses are generated accordingly with a shift\n"
     ]
    },
    {
     "name": "stderr",
     "output_type": "stream",
     "text": [
      "/Applications/anaconda3/lib/python3.7/site-packages/ipykernel_launcher.py:42: FutureWarning: `rcond` parameter will change to the default of machine precision times ``max(M, N)`` where M and N are the input matrix dimensions.\n",
      "To use the future default and silence this warning we advise to pass `rcond=None`, to keep using the old, explicitly pass `rcond=-1`.\n"
     ]
    }
   ],
   "source": [
    "VF_poles, VF_residues, VF_poly_coeff, VF_offset, VF_residual, barycentric_residues = VF_algorithm(z_train, Y_train, 100, 0, 2) ## add VF_poly_coeff when poly_order not zero "
   ]
  },
  {
   "cell_type": "code",
   "execution_count": 32,
   "metadata": {
    "colab": {},
    "colab_type": "code",
    "id": "iJ975wEjzASe",
    "scrolled": true
   },
   "outputs": [
    {
     "name": "stderr",
     "output_type": "stream",
     "text": [
      "/Applications/anaconda3/lib/python3.7/site-packages/ipykernel_launcher.py:5: DeprecationWarning: The truth value of an empty array is ambiguous. Returning False, but in future this will result in an error. Use `array.size > 0` to check that an array is not empty.\n",
      "  \"\"\"\n",
      "/Applications/anaconda3/lib/python3.7/site-packages/ipykernel_launcher.py:10: DeprecationWarning: Calling np.sum(generator) is deprecated, and in the future will give a different result. Use np.sum(np.from_iter(generator)) or the python sum builtin instead.\n",
      "  # Remove the CWD from sys.path while we load stuff.\n"
     ]
    }
   ],
   "source": [
    "## VF results\n",
    "z_train  ## for complex values : 2*np.random.rand(number_CV_points)*np.exp(1j*2*np.pi*np.random.rand(number_CV_points))\n",
    "dim_residues = Y_train[0].size\n",
    "Y_VF = np.zeros([z_train.size, dim_residues] , dtype=complex) ## VF solution\n",
    "for k in range(z_train.size):\n",
    "    Y_VF[k] = z_train[k]**(-0.5)*rational_function(z_train[k], VF_poles, VF_residues, VF_offset, VF_poly_coeff) # add when poly_order not zero : VF_poly_coeff)"
   ]
  },
  {
   "cell_type": "code",
   "execution_count": 33,
   "metadata": {
    "colab": {
     "base_uri": "https://localhost:8080/",
     "height": 2032
    },
    "colab_type": "code",
    "id": "NFPyKOLrxBpW",
    "outputId": "4b175f85-89a6-4646-c80d-06e837ae3e18"
   },
   "outputs": [
    {
     "data": {
      "image/png": "[encoded data removed]",
      "text/plain": [
       "<Figure size 432x288 with 1 Axes>"
      ]
     },
     "metadata": {
      "needs_background": "light"
     },
     "output_type": "display_data"
    }
   ],
   "source": [
    "## Plotting the VF results v/s the true model data (log-space data is in absolute value)\n",
    "fig_true_vs_VF = plt.figure()\n",
    "plt.loglog(z_train, np.real(np.array([Y_VF[g] for g in range(z_train.size)])), '-r', label='Σ_VF')\n",
    "plt.loglog(z_train, np.real(np.array([z_train[g]**(-0.5)*Y_train[g] for g in range(z_train.size)])), '-.k', label='Σ_train')\n",
    "plt.xlabel('Σ: original v/s VF')\n",
    "plt.ylabel('Energy E in (eV)]')\n",
    "plot_title = 'Cross sections Σ: SLBW vs VF'\n",
    "plt.title(plot_title)\n",
    "plt.legend()\n",
    "#plt.show()\n",
    "plt.rcParams['axes.facecolor'] = '0.98'\n"
   ]
  },
  {
   "cell_type": "code",
   "execution_count": 34,
   "metadata": {},
   "outputs": [
    {
     "data": {
      "image/png": "[encoded data removed]",
      "text/plain": [
       "<Figure size 432x288 with 1 Axes>"
      ]
     },
     "metadata": {
      "needs_background": "light"
     },
     "output_type": "display_data"
    }
   ],
   "source": [
    "## Plotting the VF results v/s the true model data (log-space data is in absolute value)\n",
    "fig_true_vs_VF = plt.figure()\n",
    "plt.loglog(z_train, np.abs(np.array([Y_VF[g] for g in range(z_train.size)])), '-r', label='Σ_VF')\n",
    "plt.loglog(z_train, np.abs(np.array([z_train[g]**(-0.5)*Y_train[g] for g in range(z_train.size)])), '-.k', label='Σ_train')\n",
    "plt.xlabel('Σ: original v/s VF')\n",
    "plt.ylabel('Energy E in (eV)]')\n",
    "plot_title = 'Cross sections Σ: SLBW vs VF'\n",
    "plt.title(plot_title)\n",
    "plt.legend()\n",
    "#plt.show()\n",
    "plt.rcParams['axes.facecolor'] = '0.98'\n"
   ]
  },
  {
   "cell_type": "code",
   "execution_count": 35,
   "metadata": {},
   "outputs": [
    {
     "data": {
      "image/png": "[encoded data removed]",
      "text/plain": [
       "<Figure size 432x288 with 1 Axes>"
      ]
     },
     "metadata": {
      "needs_background": "light"
     },
     "output_type": "display_data"
    }
   ],
   "source": [
    "plt.scatter(np.real(VF_poles), np.imag(VF_poles), s=80, facecolors='none', edgecolors='r')\n",
    "plt.show()"
   ]
  },
  {
   "cell_type": "code",
   "execution_count": 36,
   "metadata": {},
   "outputs": [
    {
     "data": {
      "text/plain": [
       "array([6.67427932+0.01210165j, 6.67427932-0.01210165j])"
      ]
     },
     "execution_count": 36,
     "metadata": {},
     "output_type": "execute_result"
    }
   ],
   "source": [
    "VF_poles"
   ]
  },
  {
   "cell_type": "code",
   "execution_count": 37,
   "metadata": {},
   "outputs": [
    {
     "data": {
      "text/plain": [
       "array([5.47522444e-12+2.27373675e-13j, 5.51171185e-12-3.07349999e-15j])"
      ]
     },
     "execution_count": 37,
     "metadata": {},
     "output_type": "execute_result"
    }
   ],
   "source": [
    "VF_offset"
   ]
  },
  {
   "cell_type": "code",
   "execution_count": 38,
   "metadata": {},
   "outputs": [
    {
     "data": {
      "text/plain": [
       "array([], dtype=float64)"
      ]
     },
     "execution_count": 38,
     "metadata": {},
     "output_type": "execute_result"
    }
   ],
   "source": [
    "VF_poly_coeff"
   ]
  },
  {
   "cell_type": "markdown",
   "metadata": {},
   "source": [
    "## Contour Integrals\n"
   ]
  },
  {
   "cell_type": "code",
   "execution_count": 39,
   "metadata": {},
   "outputs": [],
   "source": [
    "def Σγs(s):\n",
    "    return Σγ(s,μ_Γ_U238)"
   ]
  },
  {
   "cell_type": "code",
   "execution_count": 40,
   "metadata": {},
   "outputs": [],
   "source": [
    "def f_flat(z):\n",
    "    return np.array([1+1j, 1-1j])"
   ]
  },
  {
   "cell_type": "code",
   "execution_count": 41,
   "metadata": {},
   "outputs": [],
   "source": [
    "def rat1(z):\n",
    "    return 10 + (1+1j)/(z-1) + (2+2*1j)/(z-1)**2"
   ]
  },
  {
   "cell_type": "code",
   "execution_count": 42,
   "metadata": {},
   "outputs": [],
   "source": [
    "def divide_by_z_pow_n(f,n):\n",
    "    def z_pow_n(z):\n",
    "        return f(z)/(z**n)\n",
    "    return z_pow_n"
   ]
  },
  {
   "cell_type": "code",
   "execution_count": 43,
   "metadata": {},
   "outputs": [],
   "source": [
    "def multiply_by_z_min_p(f,p):\n",
    "    def z_pow_n(z):\n",
    "        return f(z)*(z-p)\n",
    "    return z_pow_n"
   ]
  },
  {
   "cell_type": "code",
   "execution_count": 44,
   "metadata": {},
   "outputs": [],
   "source": [
    "def rat2(z):\n",
    "    return np.array([(1+1j)/(1 - z), (1-1j)/(1j - z)])"
   ]
  },
  {
   "cell_type": "code",
   "execution_count": 45,
   "metadata": {},
   "outputs": [],
   "source": [
    "def sqrt_vs_pole(z):\n",
    "    return np.array([(1+1j)/(z), (1-1j)/(z**(0.5))])"
   ]
  },
  {
   "cell_type": "code",
   "execution_count": 46,
   "metadata": {},
   "outputs": [],
   "source": [
    "## Cauchy Residues Theorem\n",
    "def Cauchy_residues_extraction(f,p, N_contour = 10000 , ε = 0.00001):\n",
    "    contour_integral = f(p+ε)*complex(0.0)\n",
    "    for n in range(N_contour):\n",
    "           contour_integral += (ε/N_contour)*f(p+ε*np.exp(2*np.pi*1j*(n/N_contour)))*np.exp(2*np.pi*1j*(n/N_contour))\n",
    "    return contour_integral         "
   ]
  },
  {
   "cell_type": "code",
   "execution_count": 47,
   "metadata": {},
   "outputs": [
    {
     "data": {
      "text/plain": [
       "array([ 2.15687345e-22-7.68243994e-22j, -7.68243994e-22-2.15687345e-22j])"
      ]
     },
     "execution_count": 47,
     "metadata": {},
     "output_type": "execute_result"
    }
   ],
   "source": [
    "Cauchy_residues_extraction(f_flat, 1+1j)"
   ]
  },
  {
   "cell_type": "code",
   "execution_count": 48,
   "metadata": {},
   "outputs": [
    {
     "data": {
      "text/plain": [
       "array([ 5.18869719e-21-2.42781646e-20j, -2.09347005e-20+2.36681189e-20j])"
      ]
     },
     "execution_count": 48,
     "metadata": {},
     "output_type": "execute_result"
    }
   ],
   "source": [
    "Cauchy_residues_extraction(rat2, 1+1j)"
   ]
  },
  {
   "cell_type": "code",
   "execution_count": 49,
   "metadata": {},
   "outputs": [
    {
     "data": {
      "text/plain": [
       "array([-1.00000000e+00-1.00000000e+00j,  5.54810716e-21-9.01478112e-21j])"
      ]
     },
     "execution_count": 49,
     "metadata": {},
     "output_type": "execute_result"
    }
   ],
   "source": [
    "Cauchy_residues_extraction(rat2, 1)"
   ]
  },
  {
   "cell_type": "code",
   "execution_count": 50,
   "metadata": {},
   "outputs": [
    {
     "data": {
      "text/plain": [
       "array([-3.64566264e-21+3.94110203e-21j, -1.00000000e+00+1.00000000e+00j])"
      ]
     },
     "execution_count": 50,
     "metadata": {},
     "output_type": "execute_result"
    }
   ],
   "source": [
    "Cauchy_residues_extraction(rat2, 1j)"
   ]
  },
  {
   "cell_type": "code",
   "execution_count": 51,
   "metadata": {},
   "outputs": [
    {
     "data": {
      "text/plain": [
       "(-6.678987137998167e-20+8.101158765160587e-20j)"
      ]
     },
     "execution_count": 51,
     "metadata": {},
     "output_type": "execute_result"
    }
   ],
   "source": [
    "Cauchy_residues_extraction(rat1, 1+1j)"
   ]
  },
  {
   "cell_type": "code",
   "execution_count": 52,
   "metadata": {},
   "outputs": [
    {
     "data": {
      "text/plain": [
       "(11.000000000000009+1.0000000000000049j)"
      ]
     },
     "execution_count": 52,
     "metadata": {},
     "output_type": "execute_result"
    }
   ],
   "source": [
    "Cauchy_residues_extraction(divide_by_z_pow_n(rat1,1), 0)"
   ]
  },
  {
   "cell_type": "code",
   "execution_count": 53,
   "metadata": {},
   "outputs": [
    {
     "data": {
      "text/plain": [
       "(-3.5673818277574425e-20-1.4180522677119064e-19j)"
      ]
     },
     "execution_count": 53,
     "metadata": {},
     "output_type": "execute_result"
    }
   ],
   "source": [
    "Cauchy_residues_extraction(divide_by_z_pow_n(rat1,1), 2)"
   ]
  },
  {
   "cell_type": "code",
   "execution_count": 54,
   "metadata": {},
   "outputs": [
    {
     "data": {
      "text/plain": [
       "(-4.2260657495334184e-20-2.4048808064392e-19j)"
      ]
     },
     "execution_count": 54,
     "metadata": {},
     "output_type": "execute_result"
    }
   ],
   "source": [
    "Cauchy_residues_extraction(multiply_by_z_min_p(rat1,1), 0)"
   ]
  },
  {
   "cell_type": "code",
   "execution_count": 55,
   "metadata": {},
   "outputs": [
    {
     "data": {
      "text/plain": [
       "(1.9999999999999978+2.000000000000001j)"
      ]
     },
     "execution_count": 55,
     "metadata": {},
     "output_type": "execute_result"
    }
   ],
   "source": [
    "Cauchy_residues_extraction(multiply_by_z_min_p(rat1,1), 1)"
   ]
  },
  {
   "cell_type": "code",
   "execution_count": 56,
   "metadata": {},
   "outputs": [
    {
     "data": {
      "text/plain": [
       "array([1.        +1.j        , 0.00201348-0.00201285j])"
      ]
     },
     "execution_count": 56,
     "metadata": {},
     "output_type": "execute_result"
    }
   ],
   "source": [
    "Cauchy_residues_extraction(sqrt_vs_pole, 0)"
   ]
  },
  {
   "cell_type": "code",
   "execution_count": 57,
   "metadata": {},
   "outputs": [],
   "source": [
    "def Cauchy_residues_extraction_2_turns(f,p, N_contour = 100000 , ε = 0.001):\n",
    "    contour_integral = f(p+ε)*complex(0.0)\n",
    "    for n in range(N_contour):\n",
    "           contour_integral += (2*ε/N_contour)*f(p+ε*np.exp(4*np.pi*1j*(n/N_contour)))*np.exp(4*np.pi*1j*(n/N_contour))\n",
    "    return contour_integral/2"
   ]
  },
  {
   "cell_type": "code",
   "execution_count": 58,
   "metadata": {},
   "outputs": [
    {
     "data": {
      "text/plain": [
       "array([1.        +1.j        , 0.02013232-0.02013105j])"
      ]
     },
     "execution_count": 58,
     "metadata": {},
     "output_type": "execute_result"
    }
   ],
   "source": [
    "Cauchy_residues_extraction_2_turns(sqrt_vs_pole, 0)"
   ]
  },
  {
   "cell_type": "code",
   "execution_count": 59,
   "metadata": {},
   "outputs": [
    {
     "data": {
      "text/plain": [
       "-0.3926990816987242"
      ]
     },
     "execution_count": 59,
     "metadata": {},
     "output_type": "execute_result"
    }
   ],
   "source": [
    "np.angle((1-1j)**(0.5))"
   ]
  },
  {
   "cell_type": "code",
   "execution_count": 60,
   "metadata": {},
   "outputs": [
    {
     "data": {
      "text/plain": [
       "3.1415926535897927"
      ]
     },
     "execution_count": 60,
     "metadata": {},
     "output_type": "execute_result"
    }
   ],
   "source": [
    "np.angle(np.exp(3*np.pi*1j))"
   ]
  },
  {
   "cell_type": "code",
   "execution_count": 61,
   "metadata": {},
   "outputs": [],
   "source": [
    "def Cauchy_residues_extraction_2_turns(f,p, N_contour = 100000 , ε = 0.001):\n",
    "    contour_integral = f(p+ε)*complex(0.0)\n",
    "    for n in range(N_contour):\n",
    "           contour_integral += (ε/N_contour)*f(p+ε*np.exp(2*np.pi*1j*(n/N_contour)))*np.exp(2*np.pi*1j*(n/N_contour)) - (ε/N_contour)*f(p+ε*np.exp(2*np.pi*1j*(n/N_contour)))*np.exp(2*np.pi*1j*(n/N_contour)) \n",
    "    return contour_integral/2"
   ]
  },
  {
   "cell_type": "code",
   "execution_count": 62,
   "metadata": {},
   "outputs": [
    {
     "data": {
      "text/plain": [
       "array([0.+0.j, 0.+0.j])"
      ]
     },
     "execution_count": 62,
     "metadata": {},
     "output_type": "execute_result"
    }
   ],
   "source": [
    "Cauchy_residues_extraction_2_turns(sqrt_vs_pole, 0)"
   ]
  },
  {
   "cell_type": "markdown",
   "metadata": {},
   "source": [
    "### Sensitivities by Contour Integrals"
   ]
  },
  {
   "cell_type": "code",
   "execution_count": 63,
   "metadata": {},
   "outputs": [],
   "source": [
    "def dΣγ_dΓ_complex(E): ## The most simple SLBW caputre resonance\n",
    "    return dΣγ_dΓ(E, μ_Γ_U238)"
   ]
  },
  {
   "cell_type": "code",
   "execution_count": 64,
   "metadata": {},
   "outputs": [],
   "source": [
    "C_z_p = Cauchy_residues_extraction(multiply_by_z_min_p(dΣγ_dΓ_complex,VF_poles[0]),VF_poles[0])"
   ]
  },
  {
   "cell_type": "code",
   "execution_count": 65,
   "metadata": {},
   "outputs": [
    {
     "data": {
      "text/plain": [
       "array([ -0.92948177-5.46309760e+02j, 273.15517417+1.52691082e-02j,\n",
       "       273.15486678-2.32370232e-01j])"
      ]
     },
     "execution_count": 65,
     "metadata": {},
     "output_type": "execute_result"
    }
   ],
   "source": [
    "C_z_p"
   ]
  },
  {
   "cell_type": "code",
   "execution_count": 66,
   "metadata": {},
   "outputs": [],
   "source": [
    "C_at_p = Cauchy_residues_extraction(dΣγ_dΓ_complex,VF_poles[0])"
   ]
  },
  {
   "cell_type": "code",
   "execution_count": 67,
   "metadata": {},
   "outputs": [
    {
     "data": {
      "text/plain": [
       "array([ 1.48413615e-01+4.59730562e+01j, -3.31888837e+02-3.43513965e+05j,\n",
       "       -2.18077548e+01-1.48309305e+03j])"
      ]
     },
     "execution_count": 67,
     "metadata": {},
     "output_type": "execute_result"
    }
   ],
   "source": [
    "C_at_p"
   ]
  },
  {
   "cell_type": "code",
   "execution_count": 68,
   "metadata": {},
   "outputs": [],
   "source": [
    "C_by_z_at_0 = Cauchy_residues_extraction(divide_by_z_pow_n(dΣγ_dΓ_complex,1), 0)"
   ]
  },
  {
   "cell_type": "code",
   "execution_count": 69,
   "metadata": {},
   "outputs": [
    {
     "data": {
      "text/plain": [
       "array([-5.78259281e+01+9.08319944e-03j,  1.03450209e+05-1.62498236e+01j,\n",
       "        6.79749255e+03-1.06774124e+00j])"
      ]
     },
     "execution_count": 69,
     "metadata": {},
     "output_type": "execute_result"
    }
   ],
   "source": [
    "C_by_z_at_0 "
   ]
  },
  {
   "cell_type": "code",
   "execution_count": 70,
   "metadata": {},
   "outputs": [
    {
     "data": {
      "text/plain": [
       "array([5.47522444e-12+2.27373675e-13j, 5.51171185e-12-3.07349999e-15j])"
      ]
     },
     "execution_count": 70,
     "metadata": {},
     "output_type": "execute_result"
    }
   ],
   "source": [
    "VF_offset"
   ]
  },
  {
   "cell_type": "code",
   "execution_count": null,
   "metadata": {},
   "outputs": [],
   "source": []
  },
  {
   "cell_type": "code",
   "execution_count": null,
   "metadata": {},
   "outputs": [],
   "source": []
  },
  {
   "cell_type": "code",
   "execution_count": null,
   "metadata": {},
   "outputs": [],
   "source": []
  },
  {
   "cell_type": "code",
   "execution_count": 71,
   "metadata": {},
   "outputs": [],
   "source": [
    "def sensitivities_δΠ_δΓ(dΣγ_dΓ, Γ , Π ):\n",
    "    return 'NOT CODED YET'"
   ]
  },
  {
   "cell_type": "code",
   "execution_count": null,
   "metadata": {},
   "outputs": [],
   "source": []
  }
 ],
 "metadata": {
  "colab": {
   "collapsed_sections": [],
   "name": "Covariance_conversion.ipynb",
   "provenance": [],
   "version": "0.3.2"
  },
  "kernelspec": {
   "display_name": "Python 3",
   "language": "python",
   "name": "python3"
  },
  "language_info": {
   "codemirror_mode": {
    "name": "ipython",
    "version": 3
   },
   "file_extension": ".py",
   "mimetype": "text/x-python",
   "name": "python",
   "nbconvert_exporter": "python",
   "pygments_lexer": "ipython3",
   "version": "3.7.0"
  }
 },
 "nbformat": 4,
 "nbformat_minor": 1
}
